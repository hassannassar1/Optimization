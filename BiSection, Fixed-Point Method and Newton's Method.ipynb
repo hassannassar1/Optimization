{
 "cells": [
  {
   "cell_type": "markdown",
   "metadata": {},
   "source": [
    "<h5> Question 1</h5>"
   ]
  },
  {
   "cell_type": "code",
   "execution_count": 1,
   "metadata": {
    "collapsed": true
   },
   "outputs": [],
   "source": [
    "import math\n",
    "# Function and Derivative\n",
    "f = lambda x : 2*x**2 + 6*x + 4\n",
    "df = lambda x : 4*x + 6\n",
    "g = lambda x : -(2*x**2+4)/6"
   ]
  },
  {
   "cell_type": "markdown",
   "metadata": {},
   "source": [
    "<h5>1. BiSection </h5>"
   ]
  },
  {
   "cell_type": "code",
   "execution_count": 2,
   "metadata": {},
   "outputs": [
    {
     "name": "stdout",
     "output_type": "stream",
     "text": [
      "Found solution after 17 iterations.\n",
      "Root is :  -2.0000038146972656\n"
     ]
    }
   ],
   "source": [
    "def biSection(a,b,f,tolerance,max_iter):\n",
    "    assert f(a)*f(b) < 0,\"Bad luck Choosing A and B\"\n",
    "    t = ( a + b ) / 2\n",
    "    for i in range(max_iter):\n",
    "        if f(t)==0  or abs(f(t))<=tolerance:\n",
    "            print('Found solution after',i+1,'iterations.')\n",
    "            print('Root is : ',t)\n",
    "            break\n",
    "        if f(t) * f(b) < 0:\n",
    "            a = t\n",
    "        elif f(t) * f(a) < 0:\n",
    "            b = t\n",
    "        t = ( a + b ) / 2\n",
    "    return t\n",
    "interval = [ -3, -1.5 ]\n",
    "a = interval[0]\n",
    "b = interval[1]\n",
    "tolerance = math.pow(10,-5)\n",
    "root = biSection(a,b,f,tolerance,100)"
   ]
  },
  {
   "cell_type": "markdown",
   "metadata": {},
   "source": [
    "<h5>2. Fixed-Point Method (find a proper ) g(x)</h5>"
   ]
  },
  {
   "cell_type": "code",
   "execution_count": 3,
   "metadata": {},
   "outputs": [
    {
     "name": "stdout",
     "output_type": "stream",
     "text": [
      "Found solution after 26 iterations.\n",
      "Root is :  -0.999995298710798\n"
     ]
    }
   ],
   "source": [
    "g = lambda x : -(2*x**2+4)/6\n",
    "def fixedPoint(x0,g,tolerance,max_iter):\n",
    "    for i in range(max_iter):\n",
    "        x1 = g(x0)\n",
    "        x0 = x1\n",
    "        if abs(f(x1)) <= tolerance:\n",
    "            print('Found solution after',i,'iterations.')\n",
    "            print('Root is : ',x1)\n",
    "            return x1\n",
    "    return \"Solution Not Found\"\n",
    "p = fixedPoint(.5,g,tolerance,50)"
   ]
  },
  {
   "cell_type": "markdown",
   "metadata": {},
   "source": [
    "<h5>3. Newton's Method (use initial guess of 3)</h5>"
   ]
  },
  {
   "cell_type": "code",
   "execution_count": 4,
   "metadata": {},
   "outputs": [
    {
     "name": "stdout",
     "output_type": "stream",
     "text": [
      "Found solution after 6 iterations.\n",
      "Final X is :  -0.9999993722894324\n"
     ]
    }
   ],
   "source": [
    "def newton(f,Df,x0,epsilon,max_iter):\n",
    "    xn = x0\n",
    "    for i in range(0,max_iter):\n",
    "        fxn = f(xn)\n",
    "        if abs(fxn) < epsilon:\n",
    "            print('Found solution after',i,'iterations.')\n",
    "            print(\"Final X is : \",xn)\n",
    "            return xn\n",
    "        Dfxn = Df(xn)\n",
    "        if Dfxn == 0:\n",
    "            print('Zero derivative. No solution found.')\n",
    "            return None\n",
    "        xn = xn - fxn/Dfxn\n",
    "    print('Exceeded maximum iterations. No solution found.')\n",
    "    return None\n",
    "initial_x = 3\n",
    "final_x = newton(f,df,initial_x,tolerance,10)"
   ]
  },
  {
   "cell_type": "markdown",
   "metadata": {},
   "source": [
    "<h5> Question 2 </h5>"
   ]
  },
  {
   "cell_type": "code",
   "execution_count": 5,
   "metadata": {},
   "outputs": [
    {
     "name": "stdout",
     "output_type": "stream",
     "text": [
      "Found solution after 16 iterations.\n",
      "Root is :  0.8842151922732867\n"
     ]
    },
    {
     "data": {
      "text/plain": [
       "0.8842151922732867"
      ]
     },
     "execution_count": 5,
     "metadata": {},
     "output_type": "execute_result"
    }
   ],
   "source": [
    "import numpy as np\n",
    "f = lambda x : math.exp(x) - 5*x + 2\n",
    "df = lambda x : math.exp(x) - 5\n",
    "g = lambda x : (math.exp(x) + 2)/5\n",
    "fixedPoint(-4,g,tolerance,50)"
   ]
  },
  {
   "cell_type": "markdown",
   "metadata": {},
   "source": [
    "<h5>Question 3 </h5>"
   ]
  },
  {
   "cell_type": "code",
   "execution_count": 6,
   "metadata": {
    "collapsed": true
   },
   "outputs": [],
   "source": [
    "# Function and Derivative\n",
    "f = lambda x : math.exp(x) - 5*x + 2\n",
    "df = lambda x : math.exp(x) - 5"
   ]
  },
  {
   "cell_type": "markdown",
   "metadata": {},
   "source": [
    "<h5>1. Bisection Method</h5>"
   ]
  },
  {
   "cell_type": "code",
   "execution_count": 7,
   "metadata": {},
   "outputs": [
    {
     "name": "stdout",
     "output_type": "stream",
     "text": [
      "Found solution after 16 iterations.\n",
      "Root is :  2.1937408447265625\n"
     ]
    }
   ],
   "source": [
    "interval = [ 2, 3 ]\n",
    "a = interval[0]\n",
    "b = interval[1]\n",
    "root =  biSection(2,3,f,tolerance,100)"
   ]
  },
  {
   "cell_type": "markdown",
   "metadata": {},
   "source": [
    "<h5>2.Newton's Method, but use the initial guess of 1</h5>"
   ]
  },
  {
   "cell_type": "code",
   "execution_count": 8,
   "metadata": {},
   "outputs": [
    {
     "name": "stdout",
     "output_type": "stream",
     "text": [
      "Found solution after 3 iterations.\n",
      "Final X is :  0.8842181386038656\n"
     ]
    }
   ],
   "source": [
    "initial_x = 1\n",
    "final_x = newton(f,df,initial_x,tolerance,10)"
   ]
  },
  {
   "cell_type": "markdown",
   "metadata": {},
   "source": [
    "<h5> Question 4 </h5>"
   ]
  },
  {
   "cell_type": "code",
   "execution_count": 9,
   "metadata": {},
   "outputs": [
    {
     "name": "stdout",
     "output_type": "stream",
     "text": [
      "Found solution after 4 iterations.\n",
      "Final X is :  1.3688081078226673\n"
     ]
    }
   ],
   "source": [
    "# Function and Derivative\n",
    "f = lambda x : x**3 + 2*x**2 + 10*x - 20\n",
    "df = lambda x : 3*x**2 + 4*x + 10\n",
    "final_x = newton(f,df,2,tolerance,10)"
   ]
  },
  {
   "cell_type": "code",
   "execution_count": null,
   "metadata": {
    "collapsed": true
   },
   "outputs": [],
   "source": []
  }
 ],
 "metadata": {
  "kernelspec": {
   "display_name": "Python 3",
   "language": "python",
   "name": "python3"
  },
  "language_info": {
   "codemirror_mode": {
    "name": "ipython",
    "version": 3
   },
   "file_extension": ".py",
   "mimetype": "text/x-python",
   "name": "python",
   "nbconvert_exporter": "python",
   "pygments_lexer": "ipython3",
   "version": "3.6.6"
  }
 },
 "nbformat": 4,
 "nbformat_minor": 2
}
