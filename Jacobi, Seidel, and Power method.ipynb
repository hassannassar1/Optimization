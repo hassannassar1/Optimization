{
 "cells": [
  {
   "cell_type": "markdown",
   "metadata": {},
   "source": [
    "<h3>HomeWork 3 </h3>"
   ]
  },
  {
   "cell_type": "markdown",
   "metadata": {},
   "source": [
    "<h3>Name : Hassan Magdy Abdallah Nassar</h3>\n",
    "<h3>Group: 4</h3>"
   ]
  },
  {
   "cell_type": "code",
   "execution_count": 1,
   "metadata": {},
   "outputs": [],
   "source": [
    "import numpy as np"
   ]
  },
  {
   "cell_type": "markdown",
   "metadata": {},
   "source": [
    "<h3> Question 1 </h3>"
   ]
  },
  {
   "cell_type": "markdown",
   "metadata": {},
   "source": [
    "<strong><p> First I tried to write Matrix A of probabilities.\n",
    "<li>Then i used in Matrix B index 0 as position 10\n",
    "<li> at Last i put position 10 in the order in Matrix C </p></strong>"
   ]
  },
  {
   "cell_type": "code",
   "execution_count": 2,
   "metadata": {},
   "outputs": [],
   "source": [
    "            #   10,   1,   2,   3,   4,   5,   6 ,  7,   8,   9                     \n",
    "A = np.array([[.25,   0,   0,   0,   0,   0,  .2,   0,   0,  .2], #10\n",
    "              [ 0 ,   0,  .2,  .2,   0,   0,   0,   0,   0,   0], #1\n",
    "              [ 0 , .25,   0,  .2,  .2, 1/6,   0,   0,   0,   0], #2\n",
    "              [ 0 , .25,  .2,   0,   0, 1/6,  .2,   0,   0,   0], #3\n",
    "              [ 0 ,   0,  .2,   0,   0, 1/6,   0, .25,  .2,   0], #4\n",
    "              [ 0 ,   0,  .2,  .2,  .2,   0,  .2, .25,  .2,  .2], #5\n",
    "              [.25,   0,   0,  .2,   0, 1/6,   0,   0,   0,  .2], #6\n",
    "              [ 0 ,   0,   0,   0,  .2,   0,   0, .25,  .2,   0], #7\n",
    "              [ 0 ,   0,   0,   0,  .2, 1/6,   0,   0,  .2,  .2], #8\n",
    "              [.25,   0,   0,   0,   0, 1/6,  .2,   0,  .2,  .2]])#9\n",
    "\n",
    "            #   10,   1,   2,   3,   4,   5,   6 ,  7,   8,   9                     \n",
    "B = np.array([[  4,  0,   0,    0,   0,   0,  -1,   0,   0,  -1], #10\n",
    "              [  0,  4,  -1,   -1,   0,   0,   0,   0,   0,   0], #1\n",
    "              [  0, -1,   5,   -1,  -1,  -1,   0,   0,   0,   0], #2\n",
    "              [  0, -1,  -1,    5,   0,  -1,  -1,   0,   0,   0], #3\n",
    "              [  0,  0,  -1,   -1,   5,  -1,   0,  -1,  -1,   0], #4\n",
    "              [  0,  0,  -1,   -1,  -1,   6,  -1,   0,  -1,  -1], #5\n",
    "              [ -1,  0,   0,    0,   0,  -1,   5,   0,   0,  -1], #6\n",
    "              [  0,  0,   0,    0,  -1,   0,   0,   4,  -1,   0], #7\n",
    "              [  0,  0,   0,    0,  -1,  -1,   0,  -1,   5,  -1], #8\n",
    "              [ -1,  0,   0,    0,   0,  -1,  -1,   0,  -1,   5]])#9\n",
    "            #     1,   2,    3,   4,   5,   6,   7,   8,   9,  10                  \n",
    "C = np.array([[   4,  -1,   -1,   0,   0,   0,   0,   0,   0,  0 ],   #1\n",
    "              [  -1,   5,   -1,  -1,  -1,   0,   0,   0,   0,  0 ],   #2\n",
    "              [  -1,  -1,    5,   0,  -1,  -1,   0,   0,   0,  0 ],   #3\n",
    "              [   0,  -1,   -1,   5,  -1,   0,  -1,  -1,   0,  0 ],   #4\n",
    "              [   0,  -1,   -1,  -1,   6,  -1,   0,  -1,  -1,  0 ],   #5\n",
    "              [   0,   0,    0,   0,  -1,   5,   0,   0,  -1, -1 ],   #6\n",
    "              [   0,   0,    0,  -1,   0,   0,   4,  -1,   0,  0 ],   #7\n",
    "              [   0,   0,    0,  -1,  -1,   0,  -1,   5,  -1,  0 ],   #8\n",
    "              [   0,   0,    0,   0,  -1,  -1,   0,  -1,   5, -1 ],   #9\n",
    "              [   0,   0,    0,   0,   0,  -1,   0,   0,  -1,  4 ] ]) #10\n",
    "b = np.array([1,0,0,0,0,0,0,1,1,1]).reshape(-1,)"
   ]
  },
  {
   "cell_type": "code",
   "execution_count": 3,
   "metadata": {},
   "outputs": [
    {
     "name": "stdout",
     "output_type": "stream",
     "text": [
      "[0.44264229 0.09019607 0.18710577 0.17367852 0.33832094 0.33333332\n",
      " 0.25775746 0.46716161 0.53032551 0.51281172]\n"
     ]
    }
   ],
   "source": [
    "from numpy.linalg import inv, solve, norm\n",
    "\n",
    "def jacobi(A, b, tolerance):\n",
    "    xk_1 = np.zeros_like(b)\n",
    "    D = np.diag(A)\n",
    "    LplusU = A - np.diag(D)\n",
    "    \n",
    "    x_k = (b - (LplusU @ xk_1)) / D\n",
    "    while (norm(x_k - xk_1, 2)/norm(x_k, 2)) > tolerance:\n",
    "        xk_1 = x_k\n",
    "        x_k = (b - (LplusU @ xk_1)) / D\n",
    "    \n",
    "    return x_k\n",
    "\n",
    "print(jacobi(B, b, 1e-8))"
   ]
  },
  {
   "cell_type": "code",
   "execution_count": 4,
   "metadata": {},
   "outputs": [
    {
     "name": "stdout",
     "output_type": "stream",
     "text": [
      "[0.09019607 0.18710577 0.17367852 0.33832094 0.33333332 0.25775746\n",
      " 0.46716161 0.53032551 0.51281172 0.44264229]\n"
     ]
    }
   ],
   "source": [
    "b1 = np.array([0,0,0,0,0,0,1,1,1,1]).reshape(-1,)\n",
    "print(jacobi(C, b1, 1e-8))"
   ]
  },
  {
   "cell_type": "code",
   "execution_count": 5,
   "metadata": {},
   "outputs": [
    {
     "data": {
      "text/plain": [
       "array([0.44108443, 0.0868636 , 0.18247981, 0.17020923, 0.33370456,\n",
       "       0.32939652, 0.25599328, 0.46483809, 0.52748493, 0.51079183])"
      ]
     },
     "execution_count": 5,
     "metadata": {},
     "output_type": "execute_result"
    }
   ],
   "source": [
    "def siedel(A, b, N):\n",
    "    x = np.zeros_like(b) # initial solution (zeros)\n",
    "    LD = np.tril(A)\n",
    "    U = A - LD\n",
    "    \n",
    "    LDinv = inv(LD)\n",
    "    for i in range(N):\n",
    "        x = LDinv @ (b - U@x)\n",
    "    return x\n",
    "\n",
    "siedel(B, b, 10)"
   ]
  },
  {
   "cell_type": "code",
   "execution_count": 6,
   "metadata": {},
   "outputs": [
    {
     "data": {
      "text/plain": [
       "array([0.08650773, 0.18198563, 0.16983857, 0.3332113 , 0.32897585,\n",
       "       0.25580474, 0.46458981, 0.52718138, 0.51057598, 0.44159518])"
      ]
     },
     "execution_count": 6,
     "metadata": {},
     "output_type": "execute_result"
    }
   ],
   "source": [
    "siedel(C, b1, 10)"
   ]
  },
  {
   "cell_type": "markdown",
   "metadata": {},
   "source": [
    "<h3>Question 2</h3>"
   ]
  },
  {
   "cell_type": "code",
   "execution_count": 7,
   "metadata": {},
   "outputs": [],
   "source": [
    "a1 = np.array([[0,1,2],[.5,0,0],[0,.25,0]])\n",
    "a2 = np.array([[0,6,8],[.5,0,0],[0,.5,0]])\n",
    "v0 = np.array([[1],[1],[1]])"
   ]
  },
  {
   "cell_type": "code",
   "execution_count": 8,
   "metadata": {},
   "outputs": [],
   "source": [
    "def powerMethod(a,v):\n",
    "    val = 0\n",
    "    vec = []\n",
    "    vals = []\n",
    "    for i in range(50):\n",
    "        val_copy = val\n",
    "        ve = np.dot(a,v)\n",
    "        val = max(ve)\n",
    "        ve = ve/val\n",
    "        v = ve\n",
    "        if str(val) == str(val_copy):\n",
    "            break\n",
    "        vec.append(ve)\n",
    "        vals.append(val)\n",
    "    return vec,vals"
   ]
  },
  {
   "cell_type": "markdown",
   "metadata": {},
   "source": [
    "<h3> (1) </h3>"
   ]
  },
  {
   "cell_type": "code",
   "execution_count": 9,
   "metadata": {},
   "outputs": [
    {
     "name": "stdout",
     "output_type": "stream",
     "text": [
      "[0.88464622]\n",
      "[[1.        ]\n",
      " [0.56519769]\n",
      " [0.15972424]]\n"
     ]
    }
   ],
   "source": [
    "l , o =powerMethod(a1,v0)\n",
    "print(o[-3])\n",
    "print(l[-3])"
   ]
  },
  {
   "cell_type": "code",
   "execution_count": 10,
   "metadata": {},
   "outputs": [
    {
     "name": "stdout",
     "output_type": "stream",
     "text": [
      "[ 0.88464618+0.j        -0.44232309+0.2948714j -0.44232309-0.2948714j]\n",
      "[[-0.86227396+0.j          0.69332593+0.j          0.69332593-0.j        ]\n",
      " [-0.48735527+0.j         -0.54259608-0.36171765j -0.54259608+0.36171765j]\n",
      " [-0.13772604+0.j          0.11796101+0.28307982j  0.11796101-0.28307982j]]\n",
      "\n",
      "[-0.76280736+0.j -0.43113698+0.j -0.12183882+0.j]\n",
      "[-0.76280736+0.j -0.43113698+0.j -0.12183882+0.j]\n",
      "\n",
      "0.8846461771138722\n",
      "[0.86227396 0.48735527 0.13772604]\n"
     ]
    }
   ],
   "source": [
    "l, v = np.linalg.eig(a1)\n",
    "print(l)\n",
    "print(v)\n",
    "\n",
    "print()\n",
    "\n",
    "print(a1 @ v[:, 0])\n",
    "print(l[0] * v[:, 0])\n",
    "print()\n",
    "x = np.random.rand(3)\n",
    "for i in range(50):\n",
    "    x = (a1 @ x) / np.linalg.norm(x,2)\n",
    "\n",
    "lmbda = ((a1@x) / x)[0]\n",
    "v = x / lmbda\n",
    "print(lmbda)\n",
    "print(v)"
   ]
  },
  {
   "cell_type": "markdown",
   "metadata": {},
   "source": [
    "<h3> (2) </h3>"
   ]
  },
  {
   "cell_type": "code",
   "execution_count": 11,
   "metadata": {},
   "outputs": [
    {
     "name": "stdout",
     "output_type": "stream",
     "text": [
      "[2.00000002]\n",
      "[[1.    ]\n",
      " [0.25  ]\n",
      " [0.0625]]\n"
     ]
    }
   ],
   "source": [
    "l , o =powerMethod(a2,v0)\n",
    "print(o[-3])\n",
    "print(l[-3])"
   ]
  },
  {
   "cell_type": "code",
   "execution_count": 12,
   "metadata": {},
   "outputs": [
    {
     "name": "stdout",
     "output_type": "stream",
     "text": [
      "[ 2.         -0.99999998 -1.00000002]\n",
      "[[-0.96836405  0.87287156 -0.87287156]\n",
      " [-0.24209101 -0.43643579  0.43643578]\n",
      " [-0.06052275  0.2182179  -0.21821788]]\n",
      "\n",
      "[-1.9367281  -0.48418203 -0.12104551]\n",
      "[-1.9367281  -0.48418203 -0.12104551]\n",
      "\n",
      "2.0000000000001887\n",
      "[0.96836405 0.24209101 0.06052275]\n"
     ]
    }
   ],
   "source": [
    "l, v = np.linalg.eig(a2)\n",
    "print(l)\n",
    "print(v)\n",
    "\n",
    "print()\n",
    "\n",
    "print(a2 @ v[:, 0])\n",
    "print(l[0] * v[:, 0])\n",
    "print()\n",
    "x = np.random.rand(3)\n",
    "for i in range(50):\n",
    "    x = (a2 @ x) / np.linalg.norm(x,2)\n",
    "\n",
    "lmbda = ((a2@x) / x)[0]\n",
    "v = x / lmbda\n",
    "print(lmbda)\n",
    "print(v)"
   ]
  },
  {
   "cell_type": "code",
   "execution_count": null,
   "metadata": {},
   "outputs": [],
   "source": []
  }
 ],
 "metadata": {
  "kernelspec": {
   "display_name": "Python 3",
   "language": "python",
   "name": "python3"
  },
  "language_info": {
   "codemirror_mode": {
    "name": "ipython",
    "version": 3
   },
   "file_extension": ".py",
   "mimetype": "text/x-python",
   "name": "python",
   "nbconvert_exporter": "python",
   "pygments_lexer": "ipython3",
   "version": "3.6.7"
  }
 },
 "nbformat": 4,
 "nbformat_minor": 2
}
